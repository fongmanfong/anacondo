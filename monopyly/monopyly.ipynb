{
 "cells": [
  {
   "cell_type": "code",
   "execution_count": null,
   "metadata": {},
   "outputs": [],
   "source": [
    "import pandas as pd\n",
    "import numpy as np"
   ]
  },
  {
   "cell_type": "code",
   "execution_count": null,
   "metadata": {},
   "outputs": [],
   "source": [
    "BASIC_PURCHASE_INFO = {\n",
    "    'property_value':  650000,\n",
    "    'purchase_price':  650000\n",
    "}"
   ]
  },
  {
   "cell_type": "code",
   "execution_count": null,
   "metadata": {},
   "outputs": [],
   "source": [
    "MORTGAGE_INFO = {\n",
    "    'interest_rate': 0.031, # %\n",
    "    'down_payment': 0.25, # %\n",
    "    'loan_term': 30\n",
    "}"
   ]
  },
  {
   "cell_type": "code",
   "execution_count": null,
   "metadata": {},
   "outputs": [],
   "source": [
    "# initialize variables\n",
    "\n",
    "BASIC_PURCHASE_INFO['down_payment'] = BASIC_PURCHASE_INFO['purchase_price'] * MORTGAGE_INFO['down_payment']\n",
    "BASIC_PURCHASE_INFO['equity_at_purchase'] = BASIC_PURCHASE_INFO['property_value'] - BASIC_PURCHASE_INFO['purchase_price'] + BASIC_PURCHASE_INFO['down_payment']\n",
    "\n",
    "MORTGAGE_INFO['loan_amount'] = BASIC_PURCHASE_INFO['purchase_price'] * (1 - MORTGAGE_INFO['down_payment'])\n",
    "MORTGAGE_INFO['monthly_payment'] = 2081.70 # hardcoded for now\n",
    "MORTGAGE_INFO['annual_payment'] = MORTGAGE_INFO['monthly_payment'] *12"
   ]
  },
  {
   "cell_type": "code",
   "execution_count": null,
   "metadata": {},
   "outputs": [],
   "source": [
    "CALC_ASSUM = {\n",
    "    'rental_income': 2700,\n",
    "    'vacancy': 0,\n",
    "    'maintenance_reserve': 0,\n",
    "    'management_fee': 0.15, # %\n",
    "    'monthly_property_tax': 167.00,\n",
    "    'monthly_insurance': 50.00,\n",
    "    'utilities': {\n",
    "        'monthly_electricity': 30,\n",
    "        'monthly_gas': 30,\n",
    "        'monthly_water': 30\n",
    "    },\n",
    "    'rental_income_increase': 2, #%\n",
    "    'property_tax_increase': 2,  #%\n",
    "    'closing_cost_buy': 0.02, #%\n",
    "    'closing_cost_sell': 0\n",
    "}\n",
    "\n",
    "BASIC_PURCHASE_INFO['total_cash_required'] = BASIC_PURCHASE_INFO['down_payment'] + CALC_ASSUM['closing_cost_buy']*MORTGAGE_INFO['loan_amount']"
   ]
  },
  {
   "cell_type": "code",
   "execution_count": null,
   "metadata": {},
   "outputs": [],
   "source": [
    "BASIC_PURCHASE_INFO['total_cash_required']"
   ]
  },
  {
   "cell_type": "code",
   "execution_count": null,
   "metadata": {},
   "outputs": [],
   "source": [
    "def gross_scheduled_income(year):\n",
    "    return round(12*CALC_ASSUM['rental_income'] * (1+CALC_ASSUM['rental_income_increase']/100)**((year * 12 - 12 ) / 12), 2)"
   ]
  },
  {
   "cell_type": "code",
   "execution_count": null,
   "metadata": {},
   "outputs": [],
   "source": [
    "def property_tax(year):\n",
    "    return round(12*CALC_ASSUM['monthly_property_tax']*(1+CALC_ASSUM['property_tax_increase']/100) ** ((year * 12 - 12 ) / 12), 2)"
   ]
  },
  {
   "cell_type": "code",
   "execution_count": null,
   "metadata": {},
   "outputs": [],
   "source": [
    "def generate_years():\n",
    "    return range(1,31)"
   ]
  },
  {
   "cell_type": "code",
   "execution_count": null,
   "metadata": {},
   "outputs": [],
   "source": [
    "# calculating income\n",
    "\n",
    "gross_income = np.array([gross_scheduled_income(i) for i in generate_years()])\n",
    "\n",
    "total_operating_income = gross_income + 0"
   ]
  },
  {
   "cell_type": "code",
   "execution_count": null,
   "metadata": {},
   "outputs": [],
   "source": [
    "# calculate operating expenses\n",
    "\n",
    "property_taxes = np.array([property_tax(i) for i in generate_years()])\n",
    "insurance = np.full(max(generate_years()), CALC_ASSUM['monthly_insurance']*12)\n",
    "\n",
    "# calculate total utilities\n",
    "total_util = 0\n",
    "for util in CALC_ASSUM['utilities'].keys():\n",
    "    total_util += CALC_ASSUM['utilities'][util]\n",
    "\n",
    "utility = np.full(max(generate_years()), total_util*12)\n",
    "property_management = gross_income * CALC_ASSUM['management_fee'] \n",
    "\n",
    "total_operating_expense = property_taxes + insurance + utility + property_management"
   ]
  },
  {
   "cell_type": "code",
   "execution_count": null,
   "metadata": {},
   "outputs": [],
   "source": [
    "property_management"
   ]
  },
  {
   "cell_type": "code",
   "execution_count": null,
   "metadata": {},
   "outputs": [],
   "source": [
    "total_operating_expense"
   ]
  },
  {
   "cell_type": "code",
   "execution_count": null,
   "metadata": {},
   "outputs": [],
   "source": [
    "net_operating_income = total_operating_income - total_operating_expense"
   ]
  },
  {
   "cell_type": "code",
   "execution_count": null,
   "metadata": {},
   "outputs": [],
   "source": [
    "annual_cash_flow = net_operating_income - MORTGAGE_INFO['annual_payment']\n",
    "monthly_cash_flow = annual_cash_flow / 12"
   ]
  },
  {
   "cell_type": "code",
   "execution_count": null,
   "metadata": {},
   "outputs": [],
   "source": [
    "# calculate financial performance"
   ]
  },
  {
   "cell_type": "code",
   "execution_count": null,
   "metadata": {},
   "outputs": [],
   "source": [
    "cap_rate = net_operating_income / BASIC_PURCHASE_INFO['property_value']"
   ]
  },
  {
   "cell_type": "code",
   "execution_count": null,
   "metadata": {},
   "outputs": [],
   "source": [
    "cash_on_cash = np.round((annual_cash_flow / BASIC_PURCHASE_INFO['total_cash_required'])*100, 2)"
   ]
  },
  {
   "cell_type": "code",
   "execution_count": null,
   "metadata": {},
   "outputs": [],
   "source": [
    "cash_on_cash"
   ]
  },
  {
   "cell_type": "code",
   "execution_count": null,
   "metadata": {},
   "outputs": [],
   "source": [
    "-np.pmt(MORTGAGE_INFO['interest_rate'] / 12, MORTGAGE_INFO['loan_term']*12, MORTGAGE_INFO['loan_amount'])"
   ]
  },
  {
   "cell_type": "code",
   "execution_count": null,
   "metadata": {},
   "outputs": [],
   "source": [
    "def cumulative_principal(start, end, rate, nper, pv):\n",
    "\n",
    "    cp = 0\n",
    "    for i in range(start,end+1):\n",
    "        cp = cp + (-np.ppmt(rate / 12, i, nper*12, pv))\n",
    "    \n",
    "    return cp"
   ]
  },
  {
   "cell_type": "code",
   "execution_count": null,
   "metadata": {},
   "outputs": [],
   "source": [
    "principal_paydown = np.array([cumulative_principal(i*12-11, i*12, MORTGAGE_INFO['interest_rate'], MORTGAGE_INFO['loan_term'], MORTGAGE_INFO['loan_amount']) for i in generate_years()])"
   ]
  },
  {
   "cell_type": "code",
   "execution_count": null,
   "metadata": {},
   "outputs": [],
   "source": [
    "mortgage_balance = np.array([round(np.fv(MORTGAGE_INFO['interest_rate'] / 12, i*12, 2081.7, -MORTGAGE_INFO['loan_amount']), 2) for i in generate_years()])"
   ]
  },
  {
   "cell_type": "code",
   "execution_count": null,
   "metadata": {},
   "outputs": [],
   "source": [
    "mortgage_balance"
   ]
  },
  {
   "cell_type": "code",
   "execution_count": null,
   "metadata": {},
   "outputs": [],
   "source": [
    "equity_wealth = BASIC_PURCHASE_INFO['property_value'] - mortgage_balance"
   ]
  },
  {
   "cell_type": "code",
   "execution_count": null,
   "metadata": {},
   "outputs": [],
   "source": [
    "effective_net_cash_flow = annual_cash_flow + principal_paydown"
   ]
  },
  {
   "cell_type": "code",
   "execution_count": null,
   "metadata": {},
   "outputs": [],
   "source": [
    "return_on_equity = effective_net_cash_flow / equity_wealth"
   ]
  },
  {
   "cell_type": "code",
   "execution_count": null,
   "metadata": {},
   "outputs": [],
   "source": [
    "plus_sales_proceeds_if_final_year = annual_cash_flow + equity_wealth - BASIC_PURCHASE_INFO['property_value']*CALC_ASSUM['closing_cost_sell']"
   ]
  },
  {
   "cell_type": "code",
   "execution_count": null,
   "metadata": {},
   "outputs": [],
   "source": [
    "accumulated_cash_flow = np.cumsum(annual_cash_flow)"
   ]
  },
  {
   "cell_type": "code",
   "execution_count": null,
   "metadata": {},
   "outputs": [],
   "source": [
    "accumulated_cash_flow"
   ]
  },
  {
   "cell_type": "code",
   "execution_count": null,
   "metadata": {},
   "outputs": [],
   "source": [
    "annual_cash_flow"
   ]
  },
  {
   "cell_type": "code",
   "execution_count": null,
   "metadata": {},
   "outputs": [],
   "source": [
    "effective_future_value = plus_sales_proceeds_if_final_year + accumulated_cash_flow + annual_cash_flow"
   ]
  },
  {
   "cell_type": "code",
   "execution_count": null,
   "metadata": {},
   "outputs": [],
   "source": [
    "effective_future_value"
   ]
  },
  {
   "cell_type": "code",
   "execution_count": null,
   "metadata": {},
   "outputs": [],
   "source": [
    "annualized_return = effective_future_value / BASIC_PURCHASE_INFO['total_cash_required']"
   ]
  },
  {
   "cell_type": "code",
   "execution_count": null,
   "metadata": {},
   "outputs": [],
   "source": [
    "annualized_return = effective_future_value / BASIC_PURCHASE_INFO['total_cash_required']\n",
    "\n",
    "for i in range(0,len(annualized_return)):\n",
    "    annualized_return[i] = annualized_return[i]**(1/(i+1))-1\n"
   ]
  },
  {
   "cell_type": "code",
   "execution_count": null,
   "metadata": {},
   "outputs": [],
   "source": [
    "annualized_return"
   ]
  },
  {
   "cell_type": "code",
   "execution_count": null,
   "metadata": {},
   "outputs": [],
   "source": [
    "return_on_investment = (plus_sales_proceeds_if_final_year / BASIC_PURCHASE_INFO['total_cash_required']) / BASIC_PURCHASE_INFO['total_cash_required']"
   ]
  },
  {
   "cell_type": "code",
   "execution_count": null,
   "metadata": {},
   "outputs": [],
   "source": []
  }
 ],
 "metadata": {
  "kernelspec": {
   "display_name": "Python 3",
   "language": "python",
   "name": "python3"
  },
  "language_info": {
   "codemirror_mode": {
    "name": "ipython",
    "version": 3
   },
   "file_extension": ".py",
   "mimetype": "text/x-python",
   "name": "python",
   "nbconvert_exporter": "python",
   "pygments_lexer": "ipython3",
   "version": "3.6.5"
  }
 },
 "nbformat": 4,
 "nbformat_minor": 2
}
