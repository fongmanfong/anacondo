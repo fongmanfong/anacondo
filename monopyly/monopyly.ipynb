{
 "cells": [
  {
   "cell_type": "code",
   "execution_count": 1,
   "metadata": {},
   "outputs": [],
   "source": [
    "import pandas as pd\n",
    "import numpy as np"
   ]
  },
  {
   "cell_type": "code",
   "execution_count": 2,
   "metadata": {},
   "outputs": [],
   "source": [
    "BASIC_PURCHASE_INFO = {\n",
    "    'property_value':  650000,\n",
    "    'purchase_price':  650000\n",
    "}"
   ]
  },
  {
   "cell_type": "code",
   "execution_count": 3,
   "metadata": {},
   "outputs": [],
   "source": [
    "MORTGAGE_INFO = {\n",
    "    'interest_rate': 0.031, # %\n",
    "    'down_payment': 0.25, # %\n",
    "    'loan_term': 30\n",
    "}"
   ]
  },
  {
   "cell_type": "code",
   "execution_count": 4,
   "metadata": {},
   "outputs": [],
   "source": [
    "# initialize variables\n",
    "\n",
    "BASIC_PURCHASE_INFO['down_payment'] = BASIC_PURCHASE_INFO['purchase_price'] * MORTGAGE_INFO['down_payment']\n",
    "BASIC_PURCHASE_INFO['equity_at_purchase'] = BASIC_PURCHASE_INFO['property_value'] - BASIC_PURCHASE_INFO['purchase_price'] + BASIC_PURCHASE_INFO['down_payment']\n",
    "\n",
    "MORTGAGE_INFO['loan_amount'] = BASIC_PURCHASE_INFO['purchase_price'] * (1 - MORTGAGE_INFO['down_payment'])\n",
    "MORTGAGE_INFO['monthly_payment'] = 2081.70 # hardcoded for now\n",
    "MORTGAGE_INFO['annual_payment'] = MORTGAGE_INFO['monthly_payment'] *12"
   ]
  },
  {
   "cell_type": "code",
   "execution_count": 5,
   "metadata": {},
   "outputs": [],
   "source": [
    "CALC_ASSUM = {\n",
    "    'rental_income': 2700,\n",
    "    'vacancy': 0,\n",
    "    'maintenance_reserve': 0,\n",
    "    'management_fee': 0.15, # %\n",
    "    'monthly_property_tax': 167.00,\n",
    "    'monthly_insurance': 50.00,\n",
    "    'utilities': {\n",
    "        'monthly_electricity': 30,\n",
    "        'monthly_gas': 30,\n",
    "        'monthly_water': 30\n",
    "    },\n",
    "    'rental_income_increase': 2, #%\n",
    "    'property_tax_increase': 2,  #%\n",
    "    'closing_cost_buy': 0.02, #%\n",
    "    'closing_cost_sell': 0\n",
    "}\n",
    "\n",
    "BASIC_PURCHASE_INFO['total_cash_required'] = BASIC_PURCHASE_INFO['down_payment'] + CALC_ASSUM['closing_cost_buy']*MORTGAGE_INFO['loan_amount']"
   ]
  },
  {
   "cell_type": "code",
   "execution_count": 6,
   "metadata": {},
   "outputs": [
    {
     "data": {
      "text/plain": [
       "172250.0"
      ]
     },
     "execution_count": 6,
     "metadata": {},
     "output_type": "execute_result"
    }
   ],
   "source": [
    "BASIC_PURCHASE_INFO['total_cash_required']"
   ]
  },
  {
   "cell_type": "code",
   "execution_count": 7,
   "metadata": {},
   "outputs": [],
   "source": [
    "def gross_scheduled_income(year):\n",
    "    return round(12*CALC_ASSUM['rental_income'] * (1+CALC_ASSUM['rental_income_increase']/100)**((year * 12 - 12 ) / 12), 2)"
   ]
  },
  {
   "cell_type": "code",
   "execution_count": 8,
   "metadata": {},
   "outputs": [],
   "source": [
    "def property_tax(year):\n",
    "    return round(12*CALC_ASSUM['monthly_property_tax']*(1+CALC_ASSUM['property_tax_increase']/100) ** ((year * 12 - 12 ) / 12), 2)"
   ]
  },
  {
   "cell_type": "code",
   "execution_count": 9,
   "metadata": {},
   "outputs": [],
   "source": [
    "def generate_years():\n",
    "    return range(1,31)"
   ]
  },
  {
   "cell_type": "code",
   "execution_count": 10,
   "metadata": {},
   "outputs": [],
   "source": [
    "# calculating income\n",
    "\n",
    "gross_income = np.array([gross_scheduled_income(i) for i in generate_years()])\n",
    "\n",
    "total_operating_income = gross_income + 0"
   ]
  },
  {
   "cell_type": "code",
   "execution_count": 11,
   "metadata": {},
   "outputs": [],
   "source": [
    "# calculate operating expenses\n",
    "\n",
    "property_taxes = np.array([property_tax(i) for i in generate_years()])\n",
    "insurance = np.full(max(generate_years()), CALC_ASSUM['monthly_insurance']*12)\n",
    "\n",
    "# calculate total utilities\n",
    "total_util = 0\n",
    "for util in CALC_ASSUM['utilities'].keys():\n",
    "    total_util += CALC_ASSUM['utilities'][util]\n",
    "\n",
    "utility = np.full(max(generate_years()), total_util*12)\n",
    "property_management = gross_income * CALC_ASSUM['management_fee'] \n",
    "\n",
    "total_operating_expense = property_taxes + insurance + utility + property_management"
   ]
  },
  {
   "cell_type": "code",
   "execution_count": 12,
   "metadata": {},
   "outputs": [
    {
     "data": {
      "text/plain": [
       "array([4860.    , 4957.2   , 5056.344 , 5157.471 , 5260.62  , 5365.833 ,\n",
       "       5473.149 , 5582.613 , 5694.264 , 5808.15  , 5924.313 , 6042.7995,\n",
       "       6163.6545, 6286.9275, 6412.6665, 6540.9195, 6671.739 , 6805.173 ,\n",
       "       6941.277 , 7080.102 , 7221.705 , 7366.1385, 7513.461 , 7663.731 ,\n",
       "       7817.0055, 7973.3445, 8132.8125, 8295.468 , 8461.377 , 8630.6055])"
      ]
     },
     "execution_count": 12,
     "metadata": {},
     "output_type": "execute_result"
    }
   ],
   "source": [
    "property_management"
   ]
  },
  {
   "cell_type": "code",
   "execution_count": 13,
   "metadata": {},
   "outputs": [
    {
     "data": {
      "text/plain": [
       "array([ 8544.    ,  8681.28  ,  8821.304 ,  8964.131 ,  9109.81  ,\n",
       "        9258.413 ,  9409.979 ,  9564.583 ,  9722.274 ,  9883.12  ,\n",
       "       10047.173 , 10214.5195, 10385.2145, 10559.3175, 10736.9065,\n",
       "       10918.0395, 11102.799 , 11291.253 , 11483.487 , 11679.552 ,\n",
       "       11879.545 , 12083.5385, 12291.601 , 12503.841 , 12720.3155,\n",
       "       12941.1145, 13166.3425, 13396.068 , 13630.387 , 13869.3955])"
      ]
     },
     "execution_count": 13,
     "metadata": {},
     "output_type": "execute_result"
    }
   ],
   "source": [
    "total_operating_expense"
   ]
  },
  {
   "cell_type": "code",
   "execution_count": 14,
   "metadata": {},
   "outputs": [],
   "source": [
    "net_operating_income = total_operating_income - total_operating_expense"
   ]
  },
  {
   "cell_type": "code",
   "execution_count": 15,
   "metadata": {},
   "outputs": [],
   "source": [
    "annual_cash_flow = net_operating_income - MORTGAGE_INFO['annual_payment']\n",
    "monthly_cash_flow = annual_cash_flow / 12"
   ]
  },
  {
   "cell_type": "code",
   "execution_count": 16,
   "metadata": {},
   "outputs": [],
   "source": [
    "# calculate financial performance"
   ]
  },
  {
   "cell_type": "code",
   "execution_count": 17,
   "metadata": {},
   "outputs": [],
   "source": [
    "cap_rate = net_operating_income / BASIC_PURCHASE_INFO['property_value']"
   ]
  },
  {
   "cell_type": "code",
   "execution_count": 18,
   "metadata": {},
   "outputs": [],
   "source": [
    "cash_on_cash = np.round((annual_cash_flow / BASIC_PURCHASE_INFO['total_cash_required'])*100, 2)"
   ]
  },
  {
   "cell_type": "code",
   "execution_count": 19,
   "metadata": {},
   "outputs": [
    {
     "data": {
      "text/plain": [
       "array([-0.65, -0.36, -0.05,  0.25,  0.57,  0.89,  1.22,  1.55,  1.89,\n",
       "        2.24,  2.59,  2.96,  3.32,  3.7 ,  4.08,  4.47,  4.87,  5.28,\n",
       "        5.7 ,  6.12,  6.55,  6.99,  7.44,  7.9 ,  8.37,  8.84,  9.33,\n",
       "        9.83, 10.33, 10.85])"
      ]
     },
     "execution_count": 19,
     "metadata": {},
     "output_type": "execute_result"
    }
   ],
   "source": [
    "cash_on_cash"
   ]
  },
  {
   "cell_type": "code",
   "execution_count": 20,
   "metadata": {},
   "outputs": [
    {
     "data": {
      "text/plain": [
       "2081.704944660372"
      ]
     },
     "execution_count": 20,
     "metadata": {},
     "output_type": "execute_result"
    }
   ],
   "source": [
    "-np.pmt(MORTGAGE_INFO['interest_rate'] / 12, MORTGAGE_INFO['loan_term']*12, MORTGAGE_INFO['loan_amount'])"
   ]
  },
  {
   "cell_type": "code",
   "execution_count": 21,
   "metadata": {},
   "outputs": [],
   "source": [
    "def cumulative_principal(start, end, rate, nper, pv):\n",
    "\n",
    "    cp = 0\n",
    "    for i in range(start,end+1):\n",
    "        cp = cp + (-np.ppmt(rate / 12, i, nper*12, pv))\n",
    "    \n",
    "    return cp"
   ]
  },
  {
   "cell_type": "code",
   "execution_count": 22,
   "metadata": {},
   "outputs": [],
   "source": [
    "principal_paydown = np.array([cumulative_principal(i*12-11, i*12, MORTGAGE_INFO['interest_rate'], MORTGAGE_INFO['loan_term'], MORTGAGE_INFO['loan_amount']) for i in generate_years()])"
   ]
  },
  {
   "cell_type": "code",
   "execution_count": 23,
   "metadata": {},
   "outputs": [],
   "source": [
    "mortgage_balance = np.array([round(np.fv(MORTGAGE_INFO['interest_rate'] / 12, i*12, 2081.7, -MORTGAGE_INFO['loan_amount']), 2) for i in generate_years()])"
   ]
  },
  {
   "cell_type": "code",
   "execution_count": 24,
   "metadata": {},
   "outputs": [
    {
     "data": {
      "text/plain": [
       "array([4.7749068e+05, 4.6716662e+05, 4.5651793e+05, 4.4553440e+05,\n",
       "       4.3420551e+05, 4.2252038e+05, 4.1046782e+05, 3.9803628e+05,\n",
       "       3.8521384e+05, 3.7198820e+05, 3.5834670e+05, 3.4427624e+05,\n",
       "       3.2976336e+05, 3.1479412e+05, 2.9935419e+05, 2.8342876e+05,\n",
       "       2.6700257e+05, 2.5005987e+05, 2.3258441e+05, 2.1455946e+05,\n",
       "       1.9596772e+05, 1.7679138e+05, 1.5701205e+05, 1.3661077e+05,\n",
       "       1.1556800e+05, 9.3863540e+04, 7.1476610e+04, 4.8385740e+04,\n",
       "       2.4568790e+04, 2.9300000e+00])"
      ]
     },
     "execution_count": 24,
     "metadata": {},
     "output_type": "execute_result"
    }
   ],
   "source": [
    "mortgage_balance"
   ]
  },
  {
   "cell_type": "code",
   "execution_count": 25,
   "metadata": {},
   "outputs": [],
   "source": [
    "equity_wealth = BASIC_PURCHASE_INFO['property_value'] - mortgage_balance"
   ]
  },
  {
   "cell_type": "code",
   "execution_count": 26,
   "metadata": {},
   "outputs": [],
   "source": [
    "effective_net_cash_flow = annual_cash_flow + principal_paydown"
   ]
  },
  {
   "cell_type": "code",
   "execution_count": 27,
   "metadata": {},
   "outputs": [],
   "source": [
    "return_on_equity = effective_net_cash_flow / equity_wealth"
   ]
  },
  {
   "cell_type": "code",
   "execution_count": 28,
   "metadata": {},
   "outputs": [],
   "source": [
    "plus_sales_proceeds_if_final_year = annual_cash_flow + equity_wealth - BASIC_PURCHASE_INFO['property_value']*CALC_ASSUM['closing_cost_sell']"
   ]
  },
  {
   "cell_type": "code",
   "execution_count": 29,
   "metadata": {},
   "outputs": [],
   "source": [
    "accumulated_cash_flow = np.cumsum(annual_cash_flow)"
   ]
  },
  {
   "cell_type": "code",
   "execution_count": 30,
   "metadata": {},
   "outputs": [
    {
     "data": {
      "text/plain": [
       "array([ -1124.4   ,  -1738.08  ,  -1830.824 ,  -1392.215 ,   -411.625 ,\n",
       "         1121.782 ,   3219.063 ,   5891.5   ,   9150.586 ,  13008.066 ,\n",
       "        17475.913 ,  22566.3235,  28291.739 ,  34664.8715,  41698.675 ,\n",
       "        49406.3655,  57801.4265,  66897.5935,  76708.8865,  87249.6145,\n",
       "        98534.3695, 110578.021 , 123395.76  , 137003.059 , 151415.7135,\n",
       "       166649.829 , 182721.8365, 199648.4885, 217446.8815, 236134.456 ])"
      ]
     },
     "execution_count": 30,
     "metadata": {},
     "output_type": "execute_result"
    }
   ],
   "source": [
    "accumulated_cash_flow"
   ]
  },
  {
   "cell_type": "code",
   "execution_count": 31,
   "metadata": {},
   "outputs": [
    {
     "data": {
      "text/plain": [
       "array([-1124.4   ,  -613.68  ,   -92.744 ,   438.609 ,   980.59  ,\n",
       "        1533.407 ,  2097.281 ,  2672.437 ,  3259.086 ,  3857.48  ,\n",
       "        4467.847 ,  5090.4105,  5725.4155,  6373.1325,  7033.8035,\n",
       "        7707.6905,  8395.061 ,  9096.167 ,  9811.293 , 10540.728 ,\n",
       "       11284.755 , 12043.6515, 12817.739 , 13607.299 , 14412.6545,\n",
       "       15234.1155, 16072.0075, 16926.652 , 17798.393 , 18687.5745])"
      ]
     },
     "execution_count": 31,
     "metadata": {},
     "output_type": "execute_result"
    }
   ],
   "source": [
    "annual_cash_flow"
   ]
  },
  {
   "cell_type": "code",
   "execution_count": 32,
   "metadata": {},
   "outputs": [],
   "source": [
    "effective_future_value = plus_sales_proceeds_if_final_year + accumulated_cash_flow + annual_cash_flow"
   ]
  },
  {
   "cell_type": "code",
   "execution_count": 33,
   "metadata": {},
   "outputs": [
    {
     "data": {
      "text/plain": [
       "array([169136.12  , 179867.94  , 191465.758 , 203950.603 , 217344.045 ,\n",
       "       231668.216 , 246945.805 , 263200.094 , 280454.918 , 298734.826 ,\n",
       "       318064.907 , 338470.9045, 359979.21  , 382617.0165, 406412.092 ,\n",
       "       431392.9865, 457588.9785, 485030.0575, 513747.0625, 543771.6105,\n",
       "       575136.1595, 607873.944 , 642019.188 , 677606.887 , 714673.0225,\n",
       "       753254.52  , 793389.2415, 835116.0525, 878474.8775, 923506.675 ])"
      ]
     },
     "execution_count": 33,
     "metadata": {},
     "output_type": "execute_result"
    }
   ],
   "source": [
    "effective_future_value"
   ]
  },
  {
   "cell_type": "code",
   "execution_count": 34,
   "metadata": {},
   "outputs": [],
   "source": [
    "annualized_return = effective_future_value / BASIC_PURCHASE_INFO['total_cash_required']"
   ]
  },
  {
   "cell_type": "code",
   "execution_count": 35,
   "metadata": {},
   "outputs": [],
   "source": [
    "annualized_return = effective_future_value / BASIC_PURCHASE_INFO['total_cash_required']\n",
    "\n",
    "for i in range(0,len(annualized_return)):\n",
    "    annualized_return[i] = annualized_return[i]**(1/(i+1))-1\n"
   ]
  },
  {
   "cell_type": "code",
   "execution_count": 36,
   "metadata": {},
   "outputs": [
    {
     "data": {
      "text/plain": [
       "array([-0.01807768,  0.0218738 ,  0.03588281,  0.04313722,  0.04760534,\n",
       "        0.0506334 ,  0.05280737,  0.05442538,  0.05565655,  0.056605  ,\n",
       "        0.05733895,  0.05790542,  0.05833821,  0.05866244,  0.05889726,\n",
       "        0.05905768,  0.05915564,  0.0592008 ,  0.05920111,  0.05916316,\n",
       "        0.05909246,  0.0589937 ,  0.05887084,  0.05872729,  0.05856596,\n",
       "        0.0583894 ,  0.05819979,  0.05799903,  0.05778881,  0.05757058])"
      ]
     },
     "execution_count": 36,
     "metadata": {},
     "output_type": "execute_result"
    }
   ],
   "source": [
    "annualized_return"
   ]
  },
  {
   "cell_type": "code",
   "execution_count": 37,
   "metadata": {},
   "outputs": [],
   "source": [
    "return_on_investment = (plus_sales_proceeds_if_final_year / BASIC_PURCHASE_INFO['total_cash_required']) / BASIC_PURCHASE_INFO['total_cash_required']"
   ]
  },
  {
   "cell_type": "code",
   "execution_count": 54,
   "metadata": {},
   "outputs": [
    {
     "data": {
      "text/html": [
       "<div>\n",
       "<style scoped>\n",
       "    .dataframe tbody tr th:only-of-type {\n",
       "        vertical-align: middle;\n",
       "    }\n",
       "\n",
       "    .dataframe tbody tr th {\n",
       "        vertical-align: top;\n",
       "    }\n",
       "\n",
       "    .dataframe thead th {\n",
       "        text-align: right;\n",
       "    }\n",
       "</style>\n",
       "<table border=\"1\" class=\"dataframe\">\n",
       "  <thead>\n",
       "    <tr style=\"text-align: right;\">\n",
       "      <th>Year</th>\n",
       "      <th>1</th>\n",
       "      <th>2</th>\n",
       "      <th>3</th>\n",
       "      <th>4</th>\n",
       "      <th>5</th>\n",
       "      <th>6</th>\n",
       "      <th>7</th>\n",
       "      <th>8</th>\n",
       "      <th>9</th>\n",
       "      <th>10</th>\n",
       "      <th>...</th>\n",
       "      <th>21</th>\n",
       "      <th>22</th>\n",
       "      <th>23</th>\n",
       "      <th>24</th>\n",
       "      <th>25</th>\n",
       "      <th>26</th>\n",
       "      <th>27</th>\n",
       "      <th>28</th>\n",
       "      <th>29</th>\n",
       "      <th>30</th>\n",
       "    </tr>\n",
       "  </thead>\n",
       "  <tbody>\n",
       "    <tr>\n",
       "      <th>Cash on Cash COC</th>\n",
       "      <td>-0.650000</td>\n",
       "      <td>-0.360000</td>\n",
       "      <td>-0.050000</td>\n",
       "      <td>0.250000</td>\n",
       "      <td>0.570000</td>\n",
       "      <td>0.890000</td>\n",
       "      <td>1.220000</td>\n",
       "      <td>1.550000</td>\n",
       "      <td>1.890000</td>\n",
       "      <td>2.240000</td>\n",
       "      <td>...</td>\n",
       "      <td>6.550000</td>\n",
       "      <td>6.990000</td>\n",
       "      <td>7.440000</td>\n",
       "      <td>7.900000</td>\n",
       "      <td>8.370000</td>\n",
       "      <td>8.840000</td>\n",
       "      <td>9.330000</td>\n",
       "      <td>9.830000</td>\n",
       "      <td>10.330000</td>\n",
       "      <td>10.850000</td>\n",
       "    </tr>\n",
       "    <tr>\n",
       "      <th>Return on Equity ROE</th>\n",
       "      <td>0.051504</td>\n",
       "      <td>0.053111</td>\n",
       "      <td>0.054558</td>\n",
       "      <td>0.055864</td>\n",
       "      <td>0.057043</td>\n",
       "      <td>0.058109</td>\n",
       "      <td>0.059073</td>\n",
       "      <td>0.059945</td>\n",
       "      <td>0.060734</td>\n",
       "      <td>0.061448</td>\n",
       "      <td>...</td>\n",
       "      <td>0.065803</td>\n",
       "      <td>0.065975</td>\n",
       "      <td>0.066122</td>\n",
       "      <td>0.066243</td>\n",
       "      <td>0.066343</td>\n",
       "      <td>0.066420</td>\n",
       "      <td>0.066478</td>\n",
       "      <td>0.066517</td>\n",
       "      <td>0.066539</td>\n",
       "      <td>0.066544</td>\n",
       "    </tr>\n",
       "    <tr>\n",
       "      <th>Annualized Return APY</th>\n",
       "      <td>-0.018078</td>\n",
       "      <td>0.021874</td>\n",
       "      <td>0.035883</td>\n",
       "      <td>0.043137</td>\n",
       "      <td>0.047605</td>\n",
       "      <td>0.050633</td>\n",
       "      <td>0.052807</td>\n",
       "      <td>0.054425</td>\n",
       "      <td>0.055657</td>\n",
       "      <td>0.056605</td>\n",
       "      <td>...</td>\n",
       "      <td>0.059092</td>\n",
       "      <td>0.058994</td>\n",
       "      <td>0.058871</td>\n",
       "      <td>0.058727</td>\n",
       "      <td>0.058566</td>\n",
       "      <td>0.058389</td>\n",
       "      <td>0.058200</td>\n",
       "      <td>0.057999</td>\n",
       "      <td>0.057789</td>\n",
       "      <td>0.057571</td>\n",
       "    </tr>\n",
       "    <tr>\n",
       "      <th>Return On Investment</th>\n",
       "      <td>0.000578</td>\n",
       "      <td>0.000614</td>\n",
       "      <td>0.000652</td>\n",
       "      <td>0.000691</td>\n",
       "      <td>0.000731</td>\n",
       "      <td>0.000772</td>\n",
       "      <td>0.000814</td>\n",
       "      <td>0.000858</td>\n",
       "      <td>0.000903</td>\n",
       "      <td>0.000950</td>\n",
       "      <td>...</td>\n",
       "      <td>0.001568</td>\n",
       "      <td>0.001635</td>\n",
       "      <td>0.001705</td>\n",
       "      <td>0.001776</td>\n",
       "      <td>0.001850</td>\n",
       "      <td>0.001926</td>\n",
       "      <td>0.002004</td>\n",
       "      <td>0.002085</td>\n",
       "      <td>0.002168</td>\n",
       "      <td>0.002254</td>\n",
       "    </tr>\n",
       "  </tbody>\n",
       "</table>\n",
       "<p>4 rows × 30 columns</p>\n",
       "</div>"
      ],
      "text/plain": [
       "Year                         1         2         3         4         5   \\\n",
       "Cash on Cash COC      -0.650000 -0.360000 -0.050000  0.250000  0.570000   \n",
       "Return on Equity ROE   0.051504  0.053111  0.054558  0.055864  0.057043   \n",
       "Annualized Return APY -0.018078  0.021874  0.035883  0.043137  0.047605   \n",
       "Return On Investment   0.000578  0.000614  0.000652  0.000691  0.000731   \n",
       "\n",
       "Year                         6         7         8         9         10  ...  \\\n",
       "Cash on Cash COC       0.890000  1.220000  1.550000  1.890000  2.240000  ...   \n",
       "Return on Equity ROE   0.058109  0.059073  0.059945  0.060734  0.061448  ...   \n",
       "Annualized Return APY  0.050633  0.052807  0.054425  0.055657  0.056605  ...   \n",
       "Return On Investment   0.000772  0.000814  0.000858  0.000903  0.000950  ...   \n",
       "\n",
       "Year                         21        22        23        24        25  \\\n",
       "Cash on Cash COC       6.550000  6.990000  7.440000  7.900000  8.370000   \n",
       "Return on Equity ROE   0.065803  0.065975  0.066122  0.066243  0.066343   \n",
       "Annualized Return APY  0.059092  0.058994  0.058871  0.058727  0.058566   \n",
       "Return On Investment   0.001568  0.001635  0.001705  0.001776  0.001850   \n",
       "\n",
       "Year                         26        27        28         29         30  \n",
       "Cash on Cash COC       8.840000  9.330000  9.830000  10.330000  10.850000  \n",
       "Return on Equity ROE   0.066420  0.066478  0.066517   0.066539   0.066544  \n",
       "Annualized Return APY  0.058389  0.058200  0.057999   0.057789   0.057571  \n",
       "Return On Investment   0.001926  0.002004  0.002085   0.002168   0.002254  \n",
       "\n",
       "[4 rows x 30 columns]"
      ]
     },
     "execution_count": 54,
     "metadata": {},
     "output_type": "execute_result"
    }
   ],
   "source": [
    "d = pd.DataFrame({\n",
    "    'Year': [i for i in generate_years()],\n",
    "    'Cash on Cash COC': cash_on_cash,\n",
    "    'Return on Equity ROE': return_on_equity,\n",
    "    'Annualized Return APY': annualized_return,\n",
    "    'Return On Investment': return_on_investment*100\n",
    "})\n",
    "\n",
    "d.set_index('Year').T"
   ]
  },
  {
   "cell_type": "code",
   "execution_count": 57,
   "metadata": {},
   "outputs": [],
   "source": [
    "y = [i for i in generate_years()]"
   ]
  },
  {
   "cell_type": "code",
   "execution_count": 78,
   "metadata": {},
   "outputs": [
    {
     "data": {
      "text/plain": [
       "[1, 2, 3, 4, 5, 6, 7, 8, 9, 10, 10, 20, 30]"
      ]
     },
     "execution_count": 78,
     "metadata": {},
     "output_type": "execute_result"
    }
   ],
   "source": [
    "from operator import itemgetter \n",
    "list(range(1,11)) + [10, 20, 30]"
   ]
  },
  {
   "cell_type": "code",
   "execution_count": null,
   "metadata": {},
   "outputs": [],
   "source": []
  }
 ],
 "metadata": {
  "kernelspec": {
   "display_name": "Python 3",
   "language": "python",
   "name": "python3"
  },
  "language_info": {
   "codemirror_mode": {
    "name": "ipython",
    "version": 3
   },
   "file_extension": ".py",
   "mimetype": "text/x-python",
   "name": "python",
   "nbconvert_exporter": "python",
   "pygments_lexer": "ipython3",
   "version": "3.6.5"
  }
 },
 "nbformat": 4,
 "nbformat_minor": 2
}
