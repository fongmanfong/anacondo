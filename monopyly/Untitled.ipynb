{
 "cells": [
  {
   "cell_type": "code",
   "execution_count": 1,
   "metadata": {},
   "outputs": [],
   "source": [
    "import monopyly"
   ]
  },
  {
   "cell_type": "code",
   "execution_count": 2,
   "metadata": {},
   "outputs": [],
   "source": [
    "c = monopyly.Monopyly(\n",
    "    property_value = 650000, \n",
    "    purchase_price = 650000,\n",
    "    interest_rate = 0.031,\n",
    "    down_payment_pct = 0.25, \n",
    "    loan_term = 30,\n",
    "    rental_income = 2700, \n",
    "    vacancy=0, \n",
    "    maintenance_reserve=0, \n",
    "    management_fee=0.15, \n",
    "    monthly_property_tax=167.0, \n",
    "    monthly_insurance=50.0,\n",
    "    monthly_utility=90, \n",
    "    rental_income_increase=2, \n",
    "    property_tax_increase=2,\n",
    "    closing_cost_buy=0.02, \n",
    "    closing_cost_sell=0\n",
    ")"
   ]
  },
  {
   "cell_type": "code",
   "execution_count": 3,
   "metadata": {},
   "outputs": [
    {
     "data": {
      "text/plain": [
       "array([10009.3809785 , 10324.11868962, 10648.75309934, 10983.59540217,\n",
       "       11328.96657788, 11685.19769923, 12052.63024932, 12431.61644894,\n",
       "       12822.5195942 , 13225.71440479, 13641.58738321, 14070.53718522,\n",
       "       14512.97500204, 14969.32495449, 15440.02449956, 15925.52484978,\n",
       "       16426.29140571, 16942.80420207, 17475.55836798, 18025.06460148,\n",
       "       18591.84965917, 19176.45686112, 19779.44661171, 20401.39693682,\n",
       "       21042.90403793, 21704.58286365, 22387.06769921, 23091.01277447,\n",
       "       23817.09289107])"
      ]
     },
     "execution_count": 3,
     "metadata": {},
     "output_type": "execute_result"
    }
   ],
   "source": [
    "c.principal_paydown()"
   ]
  },
  {
   "cell_type": "code",
   "execution_count": null,
   "metadata": {},
   "outputs": [],
   "source": [
    "c.cap_rate= [1,23]"
   ]
  },
  {
   "cell_type": "code",
   "execution_count": null,
   "metadata": {},
   "outputs": [],
   "source": [
    "c.cap_rate"
   ]
  },
  {
   "cell_type": "code",
   "execution_count": null,
   "metadata": {},
   "outputs": [],
   "source": []
  }
 ],
 "metadata": {
  "kernelspec": {
   "display_name": "Python 3",
   "language": "python",
   "name": "python3"
  },
  "language_info": {
   "codemirror_mode": {
    "name": "ipython",
    "version": 3
   },
   "file_extension": ".py",
   "mimetype": "text/x-python",
   "name": "python",
   "nbconvert_exporter": "python",
   "pygments_lexer": "ipython3",
   "version": "3.6.5"
  }
 },
 "nbformat": 4,
 "nbformat_minor": 2
}
