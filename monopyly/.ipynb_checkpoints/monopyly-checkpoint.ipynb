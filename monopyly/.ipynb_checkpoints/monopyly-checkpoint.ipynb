{
 "cells": [
  {
   "cell_type": "code",
   "execution_count": 1,
   "metadata": {},
   "outputs": [],
   "source": [
    "import pandas as pd\n",
    "import numpy as np"
   ]
  },
  {
   "cell_type": "code",
   "execution_count": 2,
   "metadata": {},
   "outputs": [],
   "source": [
    "BASIC_PURCHASE_INFO = {\n",
    "    'property_value':  650000,\n",
    "    'purchase_price':  650000\n",
    "}"
   ]
  },
  {
   "cell_type": "code",
   "execution_count": 3,
   "metadata": {},
   "outputs": [],
   "source": [
    "MORTGAGE_INFO = {\n",
    "    'interest_rate': 0.031, # %\n",
    "    'down_payment': 0.25, # %\n",
    "    'loan_term': 30\n",
    "}"
   ]
  },
  {
   "cell_type": "code",
   "execution_count": 126,
   "metadata": {},
   "outputs": [],
   "source": [
    "# initialize variables\n",
    "\n",
    "BASIC_PURCHASE_INFO['down_payment'] = BASIC_PURCHASE_INFO['purchase_price'] * MORTGAGE_INFO['down_payment']\n",
    "BASIC_PURCHASE_INFO['equity_at_purchase'] = BASIC_PURCHASE_INFO['property_value'] - BASIC_PURCHASE_INFO['purchase_price'] + BASIC_PURCHASE_INFO['down_payment']\n",
    "\n",
    "MORTGAGE_INFO['loan_amount'] = BASIC_PURCHASE_INFO['purchase_price'] * (1 - MORTGAGE_INFO['down_payment'])\n",
    "MORTGAGE_INFO['monthly_payment'] = 2081.70 # hardcoded for now\n",
    "MORTGAGE_INFO['annual_payment'] = MORTGAGE_INFO['monthly_payment'] *12"
   ]
  },
  {
   "cell_type": "code",
   "execution_count": 127,
   "metadata": {},
   "outputs": [],
   "source": [
    "CALC_ASSUM = {\n",
    "    'rental_income': 2700,\n",
    "    'vacancy': 0,\n",
    "    'maintenance_reserve': 0,\n",
    "    'management_fee': 0.15, # %\n",
    "    'monthly_property_tax': 167.00,\n",
    "    'monthly_insurance': 50.00,\n",
    "    'utilities': {\n",
    "        'monthly_electricity': 30,\n",
    "        'monthly_gas': 30,\n",
    "        'monthly_water': 30\n",
    "    },\n",
    "    'rental_income_increase': 2, #%\n",
    "    'property_tax_increase': 2,  #%\n",
    "    'closing_cost_buy': 0.02, #%\n",
    "    'closing_cost_sell': 0\n",
    "}\n",
    "\n",
    "BASIC_PURCHASE_INFO['total_cash_required'] = BASIC_PURCHASE_INFO['down_payment'] + CALC_ASSUM['closing_cost_buy']*MORTGAGE_INFO['loan_amount']"
   ]
  },
  {
   "cell_type": "code",
   "execution_count": 128,
   "metadata": {},
   "outputs": [
    {
     "data": {
      "text/plain": [
       "172250.0"
      ]
     },
     "execution_count": 128,
     "metadata": {},
     "output_type": "execute_result"
    }
   ],
   "source": [
    "BASIC_PURCHASE_INFO['total_cash_required']"
   ]
  },
  {
   "cell_type": "code",
   "execution_count": 129,
   "metadata": {},
   "outputs": [],
   "source": [
    "def gross_scheduled_income(year):\n",
    "    return round(12*CALC_ASSUM['rental_income'] * (1+CALC_ASSUM['rental_income_increase']/100)**((year * 12 - 12 ) / 12), 2)"
   ]
  },
  {
   "cell_type": "code",
   "execution_count": 130,
   "metadata": {},
   "outputs": [],
   "source": [
    "def property_tax(year):\n",
    "    return round(12*CALC_ASSUM['monthly_property_tax']*(1+CALC_ASSUM['property_tax_increase']/100) ** ((year * 12 - 12 ) / 12), 2)"
   ]
  },
  {
   "cell_type": "code",
   "execution_count": 131,
   "metadata": {},
   "outputs": [],
   "source": [
    "def generate_years():\n",
    "    return range(1,31)"
   ]
  },
  {
   "cell_type": "code",
   "execution_count": 132,
   "metadata": {},
   "outputs": [],
   "source": [
    "# calculating income\n",
    "\n",
    "gross_income = np.array([gross_scheduled_income(i) for i in generate_years()])\n",
    "\n",
    "total_operating_income = gross_income + 0"
   ]
  },
  {
   "cell_type": "code",
   "execution_count": 133,
   "metadata": {},
   "outputs": [],
   "source": [
    "# calculate operating expenses\n",
    "\n",
    "property_taxes = np.array([property_tax(i) for i in generate_years()])\n",
    "insurance = np.full(max(generate_years()), CALC_ASSUM['monthly_insurance']*12)\n",
    "\n",
    "# calculate total utilities\n",
    "total_util = 0\n",
    "for util in CALC_ASSUM['utilities'].keys():\n",
    "    total_util += CALC_ASSUM['utilities'][util]\n",
    "\n",
    "utility = np.full(max(generate_years()), total_util*12)\n",
    "property_management = gross_income * CALC_ASSUM['management_fee'] \n",
    "\n",
    "total_operating_expense = property_taxes + insurance + utility + property_management"
   ]
  },
  {
   "cell_type": "code",
   "execution_count": 134,
   "metadata": {},
   "outputs": [
    {
     "data": {
      "text/plain": [
       "array([4860.    , 4957.2   , 5056.344 , 5157.471 , 5260.62  , 5365.833 ,\n",
       "       5473.149 , 5582.613 , 5694.264 , 5808.15  , 5924.313 , 6042.7995,\n",
       "       6163.6545, 6286.9275, 6412.6665, 6540.9195, 6671.739 , 6805.173 ,\n",
       "       6941.277 , 7080.102 , 7221.705 , 7366.1385, 7513.461 , 7663.731 ,\n",
       "       7817.0055, 7973.3445, 8132.8125, 8295.468 , 8461.377 , 8630.6055])"
      ]
     },
     "execution_count": 134,
     "metadata": {},
     "output_type": "execute_result"
    }
   ],
   "source": [
    "property_management"
   ]
  },
  {
   "cell_type": "code",
   "execution_count": 135,
   "metadata": {},
   "outputs": [
    {
     "data": {
      "text/plain": [
       "array([ 8544.    ,  8681.28  ,  8821.304 ,  8964.131 ,  9109.81  ,\n",
       "        9258.413 ,  9409.979 ,  9564.583 ,  9722.274 ,  9883.12  ,\n",
       "       10047.173 , 10214.5195, 10385.2145, 10559.3175, 10736.9065,\n",
       "       10918.0395, 11102.799 , 11291.253 , 11483.487 , 11679.552 ,\n",
       "       11879.545 , 12083.5385, 12291.601 , 12503.841 , 12720.3155,\n",
       "       12941.1145, 13166.3425, 13396.068 , 13630.387 , 13869.3955])"
      ]
     },
     "execution_count": 135,
     "metadata": {},
     "output_type": "execute_result"
    }
   ],
   "source": [
    "total_operating_expense"
   ]
  },
  {
   "cell_type": "code",
   "execution_count": 136,
   "metadata": {},
   "outputs": [],
   "source": [
    "net_operating_income = total_operating_income - total_operating_expense"
   ]
  },
  {
   "cell_type": "code",
   "execution_count": 137,
   "metadata": {},
   "outputs": [],
   "source": [
    "annual_cash_flow = net_operating_income - MORTGAGE_INFO['annual_payment']\n",
    "monthly_cash_flow = annual_cash_flow / 12"
   ]
  },
  {
   "cell_type": "code",
   "execution_count": 138,
   "metadata": {},
   "outputs": [],
   "source": [
    "# calculate financial performance"
   ]
  },
  {
   "cell_type": "code",
   "execution_count": 139,
   "metadata": {},
   "outputs": [],
   "source": [
    "cap_rate = net_operating_income / BASIC_PURCHASE_INFO['property_value']"
   ]
  },
  {
   "cell_type": "code",
   "execution_count": 140,
   "metadata": {},
   "outputs": [],
   "source": [
    "cash_on_cash = np.round((annual_cash_flow / BASIC_PURCHASE_INFO['total_cash_required'])*100, 2)"
   ]
  },
  {
   "cell_type": "code",
   "execution_count": 141,
   "metadata": {},
   "outputs": [
    {
     "data": {
      "text/plain": [
       "array([-0.65, -0.36, -0.05,  0.25,  0.57,  0.89,  1.22,  1.55,  1.89,\n",
       "        2.24,  2.59,  2.96,  3.32,  3.7 ,  4.08,  4.47,  4.87,  5.28,\n",
       "        5.7 ,  6.12,  6.55,  6.99,  7.44,  7.9 ,  8.37,  8.84,  9.33,\n",
       "        9.83, 10.33, 10.85])"
      ]
     },
     "execution_count": 141,
     "metadata": {},
     "output_type": "execute_result"
    }
   ],
   "source": [
    "cash_on_cash"
   ]
  },
  {
   "cell_type": "code",
   "execution_count": 142,
   "metadata": {},
   "outputs": [
    {
     "data": {
      "text/plain": [
       "2081.704944660372"
      ]
     },
     "execution_count": 142,
     "metadata": {},
     "output_type": "execute_result"
    }
   ],
   "source": [
    "-np.pmt(MORTGAGE_INFO['interest_rate'] / 12, MORTGAGE_INFO['loan_term']*12, MORTGAGE_INFO['loan_amount'])"
   ]
  },
  {
   "cell_type": "code",
   "execution_count": 143,
   "metadata": {},
   "outputs": [],
   "source": [
    "def cumulative_principal(start, end, rate, nper, pv):\n",
    "\n",
    "    cp = 0\n",
    "    for i in range(start,end+1):\n",
    "        cp = cp + (-np.ppmt(rate / 12, i, nper*12, pv))\n",
    "    \n",
    "    return cp"
   ]
  },
  {
   "cell_type": "code",
   "execution_count": 144,
   "metadata": {},
   "outputs": [],
   "source": [
    "principal_paydown = np.array([cumulative_principal(i*12-11, i*12, MORTGAGE_INFO['interest_rate'], MORTGAGE_INFO['loan_term'], MORTGAGE_INFO['loan_amount']) for i in generate_years()])"
   ]
  },
  {
   "cell_type": "code",
   "execution_count": 145,
   "metadata": {},
   "outputs": [],
   "source": [
    "mortgage_balance = np.array([round(np.fv(MORTGAGE_INFO['interest_rate'] / 12, i*12, 2081.7, -MORTGAGE_INFO['loan_amount']), 2) for i in generate_years()])"
   ]
  },
  {
   "cell_type": "code",
   "execution_count": 146,
   "metadata": {},
   "outputs": [
    {
     "data": {
      "text/plain": [
       "array([4.7749068e+05, 4.6716662e+05, 4.5651793e+05, 4.4553440e+05,\n",
       "       4.3420551e+05, 4.2252038e+05, 4.1046782e+05, 3.9803628e+05,\n",
       "       3.8521384e+05, 3.7198820e+05, 3.5834670e+05, 3.4427624e+05,\n",
       "       3.2976336e+05, 3.1479412e+05, 2.9935419e+05, 2.8342876e+05,\n",
       "       2.6700257e+05, 2.5005987e+05, 2.3258441e+05, 2.1455946e+05,\n",
       "       1.9596772e+05, 1.7679138e+05, 1.5701205e+05, 1.3661077e+05,\n",
       "       1.1556800e+05, 9.3863540e+04, 7.1476610e+04, 4.8385740e+04,\n",
       "       2.4568790e+04, 2.9300000e+00])"
      ]
     },
     "execution_count": 146,
     "metadata": {},
     "output_type": "execute_result"
    }
   ],
   "source": [
    "mortgage_balance"
   ]
  },
  {
   "cell_type": "code",
   "execution_count": 147,
   "metadata": {},
   "outputs": [],
   "source": [
    "equity_wealth = BASIC_PURCHASE_INFO['property_value'] - mortgage_balance"
   ]
  },
  {
   "cell_type": "code",
   "execution_count": 148,
   "metadata": {},
   "outputs": [],
   "source": [
    "effective_net_cash_flow = annual_cash_flow + principal_paydown"
   ]
  },
  {
   "cell_type": "code",
   "execution_count": 149,
   "metadata": {},
   "outputs": [],
   "source": [
    "return_on_equity = effective_net_cash_flow / equity_wealth"
   ]
  },
  {
   "cell_type": "code",
   "execution_count": 150,
   "metadata": {},
   "outputs": [],
   "source": [
    "plus_sales_proceeds_if_final_year = annual_cash_flow + equity_wealth - BASIC_PURCHASE_INFO['property_value']*CALC_ASSUM['closing_cost_sell']"
   ]
  },
  {
   "cell_type": "code",
   "execution_count": 151,
   "metadata": {},
   "outputs": [],
   "source": [
    "accumulated_cash_flow = np.cumsum(annual_cash_flow)"
   ]
  },
  {
   "cell_type": "code",
   "execution_count": 152,
   "metadata": {},
   "outputs": [
    {
     "data": {
      "text/plain": [
       "array([ -1124.4   ,  -1738.08  ,  -1830.824 ,  -1392.215 ,   -411.625 ,\n",
       "         1121.782 ,   3219.063 ,   5891.5   ,   9150.586 ,  13008.066 ,\n",
       "        17475.913 ,  22566.3235,  28291.739 ,  34664.8715,  41698.675 ,\n",
       "        49406.3655,  57801.4265,  66897.5935,  76708.8865,  87249.6145,\n",
       "        98534.3695, 110578.021 , 123395.76  , 137003.059 , 151415.7135,\n",
       "       166649.829 , 182721.8365, 199648.4885, 217446.8815, 236134.456 ])"
      ]
     },
     "execution_count": 152,
     "metadata": {},
     "output_type": "execute_result"
    }
   ],
   "source": [
    "accumulated_cash_flow"
   ]
  },
  {
   "cell_type": "code",
   "execution_count": 153,
   "metadata": {},
   "outputs": [
    {
     "data": {
      "text/plain": [
       "array([-1124.4   ,  -613.68  ,   -92.744 ,   438.609 ,   980.59  ,\n",
       "        1533.407 ,  2097.281 ,  2672.437 ,  3259.086 ,  3857.48  ,\n",
       "        4467.847 ,  5090.4105,  5725.4155,  6373.1325,  7033.8035,\n",
       "        7707.6905,  8395.061 ,  9096.167 ,  9811.293 , 10540.728 ,\n",
       "       11284.755 , 12043.6515, 12817.739 , 13607.299 , 14412.6545,\n",
       "       15234.1155, 16072.0075, 16926.652 , 17798.393 , 18687.5745])"
      ]
     },
     "execution_count": 153,
     "metadata": {},
     "output_type": "execute_result"
    }
   ],
   "source": [
    "annual_cash_flow"
   ]
  },
  {
   "cell_type": "code",
   "execution_count": 154,
   "metadata": {},
   "outputs": [],
   "source": [
    "effective_future_value = plus_sales_proceeds_if_final_year + accumulated_cash_flow + annual_cash_flow"
   ]
  },
  {
   "cell_type": "code",
   "execution_count": 155,
   "metadata": {},
   "outputs": [
    {
     "data": {
      "text/plain": [
       "array([169136.12  , 179867.94  , 191465.758 , 203950.603 , 217344.045 ,\n",
       "       231668.216 , 246945.805 , 263200.094 , 280454.918 , 298734.826 ,\n",
       "       318064.907 , 338470.9045, 359979.21  , 382617.0165, 406412.092 ,\n",
       "       431392.9865, 457588.9785, 485030.0575, 513747.0625, 543771.6105,\n",
       "       575136.1595, 607873.944 , 642019.188 , 677606.887 , 714673.0225,\n",
       "       753254.52  , 793389.2415, 835116.0525, 878474.8775, 923506.675 ])"
      ]
     },
     "execution_count": 155,
     "metadata": {},
     "output_type": "execute_result"
    }
   ],
   "source": [
    "effective_future_value"
   ]
  },
  {
   "cell_type": "code",
   "execution_count": 161,
   "metadata": {},
   "outputs": [],
   "source": [
    "annualized_return = effective_future_value / BASIC_PURCHASE_INFO['total_cash_required']"
   ]
  },
  {
   "cell_type": "code",
   "execution_count": 165,
   "metadata": {},
   "outputs": [],
   "source": [
    "annualized_return = effective_future_value / BASIC_PURCHASE_INFO['total_cash_required']\n",
    "\n",
    "for i in range(0,len(annualized_return)):\n",
    "    annualized_return[i] = annualized_return[i]**(1/(i+1))-1\n"
   ]
  },
  {
   "cell_type": "code",
   "execution_count": 166,
   "metadata": {},
   "outputs": [
    {
     "data": {
      "text/plain": [
       "array([-0.01807768,  0.0218738 ,  0.03588281,  0.04313722,  0.04760534,\n",
       "        0.0506334 ,  0.05280737,  0.05442538,  0.05565655,  0.056605  ,\n",
       "        0.05733895,  0.05790542,  0.05833821,  0.05866244,  0.05889726,\n",
       "        0.05905768,  0.05915564,  0.0592008 ,  0.05920111,  0.05916316,\n",
       "        0.05909246,  0.0589937 ,  0.05887084,  0.05872729,  0.05856596,\n",
       "        0.0583894 ,  0.05819979,  0.05799903,  0.05778881,  0.05757058])"
      ]
     },
     "execution_count": 166,
     "metadata": {},
     "output_type": "execute_result"
    }
   ],
   "source": [
    "annualized_return"
   ]
  },
  {
   "cell_type": "code",
   "execution_count": 171,
   "metadata": {},
   "outputs": [],
   "source": [
    "return_on_investment = (plus_sales_proceeds_if_final_year / BASIC_PURCHASE_INFO['total_cash_required']) / BASIC_PURCHASE_INFO['total_cash_required']"
   ]
  },
  {
   "cell_type": "code",
   "execution_count": null,
   "metadata": {},
   "outputs": [],
   "source": []
  }
 ],
 "metadata": {
  "kernelspec": {
   "display_name": "Python 3",
   "language": "python",
   "name": "python3"
  },
  "language_info": {
   "codemirror_mode": {
    "name": "ipython",
    "version": 3
   },
   "file_extension": ".py",
   "mimetype": "text/x-python",
   "name": "python",
   "nbconvert_exporter": "python",
   "pygments_lexer": "ipython3",
   "version": "3.6.5"
  }
 },
 "nbformat": 4,
 "nbformat_minor": 2
}
